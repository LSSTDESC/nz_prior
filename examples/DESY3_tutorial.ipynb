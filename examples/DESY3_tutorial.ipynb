{
 "cells": [
  {
   "cell_type": "markdown",
   "metadata": {},
   "source": [
    "# DES Y3"
   ]
  },
  {
   "cell_type": "markdown",
   "metadata": {},
   "source": [
    "### Goals\n",
    "- How to interface QP and sacc\n",
    "- How to create n(z) uncertainties from an ensemble of n(z)'s\n",
    "\n",
    "### Requirements\n",
    "- **A sacc file**: we will use the sacc file of Prat et al 2022 (2212.09345). This sacc file contains the summary statistics measured from the CosmoDC2 simulations using the DESC TXPipe pipeline. The summary statistics include the angular power spectra of the shear-shear, position-shear, and position-position correlations, as well as the cross-correlations between the different probes. The sacc file also contains the redshift distributions of the galaxies in the simulations. For more details see Prat et al 2022. The data can found in NERSC at '/global/cfs/cdirs/lsst/groups/WL/projects/star-challenge/gaussian/data_vectors'.\n",
    "\n",
    "- **A series of QP ensenbles**: For this tutorials I have created a series of QP ensembles using the cosmoDC2_v1.1.4_image_with_photoz_v1 simulations. This catalog contains photometric redshifts that were computed with the `BPZ` template-based code (https://ui.adsabs.harvard.edu/abs/2000ApJ...536..571B/abstract) by Sam Schmidt. We use all the available pixels and impose a 24.1 magnitude cut in the i-band following Prat et al. The edges of the tomographic bins are also taken from Prat et al.\n",
    "\n",
    "### Special Dependencies\n",
    "- **sacc**: standard DESC library to load and save data.\n",
    "- **nz_prior**: this very own library, used to compute n(z) uncertainties from n(z) ensembles.\n",
    "- **PACC** is a plotting library (https://github.com/JaimeRZP/pacc) for sacc files."
   ]
  },
  {
   "cell_type": "code",
   "execution_count": 1,
   "metadata": {},
   "outputs": [],
   "source": [
    "import numpy as np\n",
    "from numpy.linalg import cholesky\n",
    "import matplotlib.pyplot as plt\n",
    "from scipy.interpolate import interp1d\n",
    "import scipy.stats as stats\n",
    "import qp\n",
    "import sacc\n",
    "import yaml\n",
    "import scipy\n",
    "import nz_prior as nzp"
   ]
  },
  {
   "cell_type": "markdown",
   "metadata": {},
   "source": [
    "### Make dictionaries"
   ]
  },
  {
   "cell_type": "code",
   "execution_count": 2,
   "metadata": {},
   "outputs": [],
   "source": [
    "import pickle\n",
    "\n",
    "with open('./data/final_nz_v7_sub12000_py3.pkl', 'rb') as f:\n",
    "    lenses = pickle.load(f)"
   ]
  },
  {
   "cell_type": "code",
   "execution_count": 3,
   "metadata": {},
   "outputs": [],
   "source": [
    "lenses_z = np.linspace(0.0, 2.0, 150)"
   ]
  },
  {
   "cell_type": "code",
   "execution_count": null,
   "metadata": {},
   "outputs": [],
   "source": [
    "nbins, nrels, nzs = lenses.shape\n",
    "for i in range(nbins):\n",
    "    hists = lenses[i, 0:999, :].T\n",
    "    print(hists.shape)\n",
    "    np.savez(f'./data/lenses/lenses_{i}.npz', znodes=lenses_z, photo_hists=hists)\n"
   ]
  },
  {
   "cell_type": "code",
   "execution_count": 5,
   "metadata": {},
   "outputs": [],
   "source": [
    "from astropy.io import fits\n",
    "\n",
    "hdu = fits.open('./data/2pt_NG_final_2ptunblind_02_26_21_wnz_maglim_covupdate.fits')"
   ]
  },
  {
   "cell_type": "code",
   "execution_count": 6,
   "metadata": {},
   "outputs": [],
   "source": [
    "sources_0_hists = []\n",
    "sources_1_hists = []\n",
    "sources_2_hists = []\n",
    "sources_3_hists = []\n",
    "for i in range(8, 1007):\n",
    "    data = hdu[i].data\n",
    "    sources_0_hists.append(data['BIN1'])\n",
    "    sources_1_hists.append(data['BIN2'])\n",
    "    sources_2_hists.append(data['BIN3'])\n",
    "    sources_3_hists.append(data['BIN4'])\n",
    "\n",
    "sources_0_hists = np.array(sources_0_hists).T\n",
    "sources_1_hists = np.array(sources_1_hists).T\n",
    "sources_2_hists = np.array(sources_2_hists).T\n",
    "sources_3_hists = np.array(sources_3_hists).T\n",
    "\n",
    "sources_z = hdu[8].data['Z_MID']\n",
    "\n",
    "np.savez(f'./data/sources/sources_0.npz', znodes=sources_z, photo_hists=sources_0_hists)\n",
    "np.savez(f'./data/sources/sources_1.npz', znodes=sources_z, photo_hists=sources_1_hists)\n",
    "np.savez(f'./data/sources/sources_2.npz', znodes=sources_z, photo_hists=sources_2_hists)\n",
    "np.savez(f'./data/sources/sources_3.npz', znodes=sources_z, photo_hists=sources_3_hists)"
   ]
  },
  {
   "cell_type": "markdown",
   "metadata": {},
   "source": [
    "### Load Data"
   ]
  },
  {
   "cell_type": "code",
   "execution_count": 7,
   "metadata": {},
   "outputs": [],
   "source": [
    "# Sacc file\n",
    "s = sacc.Sacc.load_fits(\"/home/jaimerz/Documents/UCL/3x2_analytical/data/CosmoDC2/summary_statistics_fourier_tjpcov.sacc\")\n",
    "y = yaml.load(open(\"/home/jaimerz/Documents/UCL/3x2_analytical/data/CosmoDC2/gcgc_gcwl_wlwl.yml\"), Loader=yaml.FullLoader)\n",
    "\n",
    "# Ensembles\n",
    "method = \"bpz\"\n",
    "source_0 = np.load('./data/sources/sources_0.npz', allow_pickle=True)\n",
    "source_1 = np.load('./data/sources/sources_1.npz', allow_pickle=True)\n",
    "source_2 = np.load('./data/sources/sources_2.npz', allow_pickle=True)\n",
    "source_3 = np.load('./data/sources/sources_3.npz', allow_pickle=True)\n",
    "\n",
    "lens_0 = np.load('./data/lenses/lenses_0.npz', allow_pickle=True)\n",
    "lens_1 = np.load('./data/lenses/lenses_1.npz', allow_pickle=True)\n",
    "lens_2 = np.load('./data/lenses/lenses_2.npz', allow_pickle=True)\n",
    "lens_3 = np.load('./data/lenses/lenses_3.npz', allow_pickle=True)\n",
    "lens_4 = np.load('./data/lenses/lenses_4.npz', allow_pickle=True)\n",
    "lens_5 = np.load('./data/lenses/lenses_5.npz', allow_pickle=True)\n",
    "\n",
    "tomos = {'source_0': source_0,\n",
    "        'source_1': source_1,\n",
    "        'source_2': source_2,\n",
    "        'source_3': source_3,\n",
    "        'lens_0': lens_0,\n",
    "        'lens_1': lens_1,\n",
    "        'lens_2': lens_2,\n",
    "        'lens_3': lens_3,\n",
    "        'lens_4': lens_4,\n",
    "        'lens_5': lens_5}\n",
    "\n",
    "crosscorrs_method = \"BinWise\""
   ]
  },
  {
   "cell_type": "code",
   "execution_count": 8,
   "metadata": {},
   "outputs": [],
   "source": [
    "def make_nzs_plots(tracers_dict, tracer_list):\n",
    "    n_tracers = len(tracer_list)\n",
    "    figure, axis = plt.subplots(2, n_tracers, figsize=(n_tracers*3.5,7))\n",
    "    figure.subplots_adjust(wspace=0, hspace=0.01)\n",
    "    for i, key in enumerate(tracer_list):\n",
    "        tomo = tracers_dict[key]\n",
    "        nzs = tomo['photo_hists']\n",
    "        zs = tomo['znodes']\n",
    "        norms = np.sum(nzs, axis=0)\n",
    "        axis[0,i].plot(zs, nzs/norms, 'k-', alpha=0.01)\n",
    "        cov = np.cov(nzs)\n",
    "        nz_mean = np.mean(nzs, axis=1)\n",
    "        axis[0,i].set_xlim([min(zs), max(zs)])\n",
    "        axis[0,i].set_ylim([-0.005, 0.1])\n",
    "        axis[0,i].set_title(key)\n",
    "        if i == 0:\n",
    "            axis[0,i].set_ylabel(r'$p(z)$')\n",
    "        else:\n",
    "            axis[0,i].set_yticklabels([])\n",
    "            axis[1,i].set_yticklabels([])\n",
    "        im = axis[1,i].imshow(abs(cov), aspect='auto',\n",
    "                            origin='lower', cmap='gray',\n",
    "                            extent=[min(zs), max(zs), max(zs), min(zs)])\n",
    "        axis[1,i].set_xlabel(r'$z$')\n",
    "\n",
    "    cbar_ax = figure.add_axes([0.905, 0.11, 0.02, 0.38])\n",
    "    figure.colorbar(im, cax=cbar_ax)\n",
    "    plt.show()"
   ]
  },
  {
   "cell_type": "code",
   "execution_count": null,
   "metadata": {},
   "outputs": [],
   "source": [
    "plot_tracers = ['source_0', 'source_1', 'source_2', 'source_3']\n",
    "make_nzs_plots(tomos, plot_tracers)"
   ]
  },
  {
   "cell_type": "code",
   "execution_count": null,
   "metadata": {},
   "outputs": [],
   "source": [
    "plot_tracers = ['lens_0', 'lens_1', 'lens_2', 'lens_3', 'lens_4', 'lens_5']\n",
    "make_nzs_plots(tomos, plot_tracers)"
   ]
  },
  {
   "cell_type": "markdown",
   "metadata": {},
   "source": [
    "# Interfacing SACC and QP"
   ]
  },
  {
   "cell_type": "code",
   "execution_count": null,
   "metadata": {},
   "outputs": [],
   "source": [
    "def make_qp(ens):\n",
    "    pzs = ens['photo_hists'].T\n",
    "    zs = ens['znodes']\n",
    "    dz = zs[1]-zs[0]\n",
    "    zs_edges =np.concatenate([\n",
    "        [zs[0] - dz / 2],  # First edge\n",
    "        zs + dz / 2        # Rest of the edges\n",
    "    ])\n",
    "    print(len(zs_edges))\n",
    "    return qp.Ensemble(qp.hist, data={\"bins\":zs_edges, \"pdfs\":pzs})\n",
    "\n",
    "def update_sacc_qp(s, enss):\n",
    "    ss = s.copy()\n",
    "    tracers = ss.tracers\n",
    "    for key in enss.keys():\n",
    "        ens = enss[key]\n",
    "        q = make_qp(ens)\n",
    "        ss.add_tracer('Qpnz', key, q)\n",
    "    return ss\n",
    "\n",
    "ss_qp = update_sacc_qp(s, tomos)\n",
    "ss_qp.remove_tracers(['source_4'])\n"
   ]
  },
  {
   "cell_type": "markdown",
   "metadata": {},
   "source": [
    "# Computing Uncertainties\n",
    "\n",
    "Now we are just going to apply the methods of nz_prior described in the basic tutorial for each of the tracers in the sacc file. For the sake of brevity we will only use the qp tracers but the same can be done for the NZTracers."
   ]
  },
  {
   "cell_type": "code",
   "execution_count": 12,
   "metadata": {},
   "outputs": [],
   "source": [
    "def make_nzs_plots(tracers_dict, tracer_list):\n",
    "    n_tracers = len(tracer_list)\n",
    "    figure, axis = plt.subplots(2, n_tracers, figsize=(n_tracers*3.5,7))\n",
    "    figure.subplots_adjust(wspace=0, hspace=0.01)\n",
    "    for i, key in enumerate(tracer_list):\n",
    "        zs, nzs = tracers_dict[key]\n",
    "        nzs = nzs.T\n",
    "        axis[0,i].plot(zs, nzs, 'k-', alpha=0.01)\n",
    "        cov = np.cov(nzs)\n",
    "        nz_mean = np.mean(nzs, axis=1)\n",
    "        #axis[0,i].errorbar(zs, nz_mean, yerr=np.sqrt(np.diag(cov)), fmt='k-')\n",
    "        axis[0,i].set_xlim([min(zs), max(zs)])\n",
    "        axis[0,i].set_title(key)\n",
    "        axis[0,i].set_ylim([-0.01, 0.35])\n",
    "        if i == 0:\n",
    "            axis[0,i].set_ylabel(r'$p(z)$')\n",
    "        else:\n",
    "            axis[0,i].set_yticklabels([])\n",
    "        im = axis[1,i].imshow(abs(cov), aspect='auto',\n",
    "                            origin='lower', cmap='gray',\n",
    "                            extent=[min(zs), max(zs), max(zs), min(zs)])\n",
    "        axis[1,i].set_xlabel(r'$z$')\n",
    "\n",
    "    cbar_ax = figure.add_axes([0.905, 0.11, 0.02, 0.38])\n",
    "    figure.colorbar(im, cax=cbar_ax)\n",
    "    plt.show()"
   ]
  },
  {
   "cell_type": "markdown",
   "metadata": {},
   "source": [
    "## Shifts"
   ]
  },
  {
   "cell_type": "code",
   "execution_count": null,
   "metadata": {},
   "outputs": [],
   "source": [
    "ss_qp.tracers"
   ]
  },
  {
   "cell_type": "code",
   "execution_count": 14,
   "metadata": {},
   "outputs": [],
   "source": [
    "shifts_priors = nzp.PriorSacc(ss_qp, \n",
    "                            model=\"Shifts\",\n",
    "                            compute_crosscorrs=\"Full\")"
   ]
  },
  {
   "cell_type": "code",
   "execution_count": null,
   "metadata": {},
   "outputs": [],
   "source": [
    "shifts_priors.sample_prior()"
   ]
  },
  {
   "cell_type": "code",
   "execution_count": null,
   "metadata": {},
   "outputs": [],
   "source": [
    "mean, cov, chol = shifts_priors.get_prior()\n",
    "err = np.sqrt(np.diag(cov))\n",
    "corr = cov/np.outer(err, err) \n",
    "plt.imshow(corr)\n",
    "plt.colorbar()"
   ]
  },
  {
   "cell_type": "code",
   "execution_count": 21,
   "metadata": {},
   "outputs": [],
   "source": [
    "shifted_nzs = {}\n",
    "for i in range(500):\n",
    "    prior_sample = shifts_priors.sample_prior()\n",
    "    for tracer_name in list(ss_qp.tracers.keys()):\n",
    "        model_obj = shifts_priors.model_objs[tracer_name]\n",
    "        nz_fid = [model_obj.z, model_obj.nz_mean]\n",
    "        param_names = model_obj._get_params_names()\n",
    "        nz_names = [tracer_name + \"__\"  + name for name in param_names]\n",
    "        params = [prior_sample[nz_name] for nz_name in nz_names]\n",
    "        shifted_nz = nzp.shift_model(nz_fid, params[0])[1]\n",
    "        if i == 0:\n",
    "            shifted_nzs[tracer_name] = [nz_fid[0], shifted_nz]\n",
    "        else:\n",
    "\n",
    "            shifted_nzs[tracer_name] = [nz_fid[0], np.vstack([shifted_nzs[tracer_name][1], shifted_nz])]\n"
   ]
  },
  {
   "cell_type": "code",
   "execution_count": null,
   "metadata": {},
   "outputs": [],
   "source": [
    "plot_tracers = ['source_0', 'source_1', 'source_2', 'source_3']\n",
    "make_nzs_plots(shifted_nzs, plot_tracers)"
   ]
  },
  {
   "cell_type": "code",
   "execution_count": null,
   "metadata": {},
   "outputs": [],
   "source": [
    "plot_tracers = ['lens_0', 'lens_1', 'lens_2', 'lens_3', 'lens_4']\n",
    "make_nzs_plots(shifted_nzs, plot_tracers)"
   ]
  },
  {
   "cell_type": "code",
   "execution_count": null,
   "metadata": {},
   "outputs": [],
   "source": [
    "shifts_Ds = {}\n",
    "for tracer_name in shifted_nzs.keys():\n",
    "    model_obj = shifts_priors.model_objs[tracer_name]\n",
    "    mu_1, K_1 = model_obj.nz_mean, model_obj.nz_cov\n",
    "    nzs = shifted_nzs[tracer_name][1]\n",
    "    mu_2 = np.mean(nzs, axis=0)\n",
    "    K_2 = np.cov(nzs.T)\n",
    "    D = nzp.Sym_Dkl(mu_1, K_1, mu_2, K_2)\n",
    "    shifts_Ds[tracer_name] = np.abs(D)"
   ]
  },
  {
   "cell_type": "code",
   "execution_count": null,
   "metadata": {},
   "outputs": [],
   "source": [
    "shifts_Ds"
   ]
  },
  {
   "cell_type": "markdown",
   "metadata": {},
   "source": [
    "## Shifts & widths"
   ]
  },
  {
   "cell_type": "code",
   "execution_count": null,
   "metadata": {},
   "outputs": [],
   "source": [
    "SnWs_priors = nzp.PriorSacc(ss_qp, \n",
    "                            model=\"ShiftsWidths\",\n",
    "                            compute_crosscorrs=\"Full\")"
   ]
  },
  {
   "cell_type": "code",
   "execution_count": null,
   "metadata": {},
   "outputs": [],
   "source": [
    "SnWs_priors.sample_prior()"
   ]
  },
  {
   "cell_type": "code",
   "execution_count": 21,
   "metadata": {},
   "outputs": [],
   "source": [
    "mean, cov, chol = SnWs_priors.get_prior()\n",
    "file_name = \"dz_prior.npz\"\n",
    "save_to = \"/home/jaimerz/Documents/UCL/3x2_analytical/data/CosmoDC2/image_dz_{}_priors/\".format(method) + file_name\n",
    "np.savez(save_to, mean=mean, cov=cov)\n"
   ]
  },
  {
   "cell_type": "code",
   "execution_count": null,
   "metadata": {},
   "outputs": [],
   "source": [
    "mean, cov, chol = SnWs_priors.get_prior()\n",
    "err = np.sqrt(np.diag(cov))\n",
    "corr = cov/np.outer(err, err) \n",
    "plt.imshow(corr)\n",
    "plt.colorbar()"
   ]
  },
  {
   "cell_type": "code",
   "execution_count": null,
   "metadata": {},
   "outputs": [],
   "source": [
    "SnWs_priors.params_names    "
   ]
  },
  {
   "cell_type": "code",
   "execution_count": null,
   "metadata": {},
   "outputs": [],
   "source": [
    "SnWs_priors.get_prior()"
   ]
  },
  {
   "cell_type": "code",
   "execution_count": 25,
   "metadata": {},
   "outputs": [],
   "source": [
    "SnWs_nzs = {}\n",
    "for i in range(500):\n",
    "    prior_sample = SnWs_priors.sample_prior()\n",
    "    for tracer_name in list(ss_qp.tracers.keys()):\n",
    "        model_obj = SnWs_priors.model_objs[tracer_name]\n",
    "        nz_fid = [model_obj.z, model_obj.nz_mean]\n",
    "        param_names = model_obj._get_params_names()\n",
    "        nz_names = [tracer_name + \"__\"  + name for name in param_names]\n",
    "        params = [prior_sample[nz_name] for nz_name in nz_names]\n",
    "        shifted_nz = nzp.shift_and_width_model(nz_fid, params)[1]\n",
    "        if i == 0:\n",
    "            SnWs_nzs[tracer_name] = [nz_fid[0], shifted_nz]\n",
    "        else:\n",
    "\n",
    "            SnWs_nzs[tracer_name] = [nz_fid[0], np.vstack([SnWs_nzs[tracer_name][1], shifted_nz])]\n"
   ]
  },
  {
   "cell_type": "code",
   "execution_count": null,
   "metadata": {},
   "outputs": [],
   "source": [
    "plot_tracers = ['source_0', 'source_1', 'source_2', 'source_3', 'source_4']\n",
    "make_nzs_plots(SnWs_nzs, plot_tracers)"
   ]
  },
  {
   "cell_type": "code",
   "execution_count": null,
   "metadata": {},
   "outputs": [],
   "source": [
    "plot_tracers = ['lens_0', 'lens_1', 'lens_2', 'lens_3', 'lens_4']\n",
    "make_nzs_plots(SnWs_nzs, plot_tracers)"
   ]
  },
  {
   "cell_type": "code",
   "execution_count": null,
   "metadata": {},
   "outputs": [],
   "source": [
    "SnWs_Ds = {}\n",
    "for tracer_name in SnWs_nzs.keys():\n",
    "    model_obj = SnWs_priors.model_objs[tracer_name]\n",
    "    mu_1, K_1 = model_obj.nz_mean, model_obj.nz_cov\n",
    "    nzs = SnWs_nzs[tracer_name][1]\n",
    "    mu_2 = np.mean(nzs, axis=0)\n",
    "    K_2 = np.cov(nzs.T)\n",
    "    D = nzp.Sym_Dkl(mu_1, K_1, mu_2, K_2)\n",
    "    SnWs_Ds[tracer_name] = np.abs(D)"
   ]
  },
  {
   "cell_type": "code",
   "execution_count": null,
   "metadata": {},
   "outputs": [],
   "source": [
    "SnWs_Ds"
   ]
  },
  {
   "cell_type": "markdown",
   "metadata": {},
   "source": [
    "## GP"
   ]
  },
  {
   "cell_type": "code",
   "execution_count": 30,
   "metadata": {},
   "outputs": [],
   "source": [
    "gp_priors = nzp.PriorSacc(ss_qp,\n",
    "                              model=\"GP\",\n",
    "                              compute_crosscorrs=crosscorrs_method)"
   ]
  },
  {
   "cell_type": "code",
   "execution_count": null,
   "metadata": {},
   "outputs": [],
   "source": [
    "mean, cov, chol = gp_priors.get_prior()\n",
    "err = np.sqrt(np.diag(cov))\n",
    "corr = cov/np.outer(err, err) \n",
    "plt.imshow(corr)\n",
    "plt.colorbar()"
   ]
  },
  {
   "cell_type": "code",
   "execution_count": 32,
   "metadata": {},
   "outputs": [],
   "source": [
    "gp_nzs = {}\n",
    "for i in range(1000):\n",
    "    prior_sample = gp_priors.sample_prior()\n",
    "    for tracer_name in list(ss_qp.tracers.keys()):\n",
    "        model_obj = gp_priors.model_objs[tracer_name]\n",
    "        param_names = model_obj._get_params_names()\n",
    "        nz_names = [tracer_name + \"__\"  + name for name in param_names]\n",
    "        nz = [prior_sample[nz_name] for nz_name in nz_names]\n",
    "        z = model_obj.z\n",
    "        if i == 0:\n",
    "            gp_nzs[tracer_name] = [z, nz]\n",
    "        else:\n",
    "\n",
    "            gp_nzs[tracer_name] = [z, np.vstack([gp_nzs[tracer_name][1], nz])]"
   ]
  },
  {
   "cell_type": "code",
   "execution_count": null,
   "metadata": {},
   "outputs": [],
   "source": [
    "plot_tracers = ['source_0', 'source_1', 'source_2', 'source_3', 'source_4']\n",
    "make_nzs_plots(gp_nzs, plot_tracers)"
   ]
  },
  {
   "cell_type": "code",
   "execution_count": null,
   "metadata": {},
   "outputs": [],
   "source": [
    "plot_tracers = ['lens_0', 'lens_1', 'lens_2', 'lens_3', 'lens_4']\n",
    "make_nzs_plots(gp_nzs, plot_tracers)"
   ]
  },
  {
   "cell_type": "code",
   "execution_count": null,
   "metadata": {},
   "outputs": [],
   "source": [
    "mean, cov, chol = gp_priors.get_prior()\n",
    "for i, name in enumerate(ss_qp.tracers.keys()):\n",
    "    z = ss_qp.tracers[name].z\n",
    "    bins = 0.5*(z[1:] + z[:-1])\n",
    "    sub_mean = mean[25*i:25*(i+1)]\n",
    "    sub_cov = cov[25*i:25*(i+1), 25*i:25*(i+1)]\n",
    "    print(sub_cov.shape)\n",
    "    file_name = f\"nz_{name}.npz\"\n",
    "    save_to = \"/home/jaimerz/Documents/UCL/3x2_analytical/data/CosmoDC2/image_nzs_{}_priors/\".format(method) + file_name\n",
    "    np.savez(save_to, z=bins, dndz=sub_mean, cov=sub_cov)\n"
   ]
  },
  {
   "cell_type": "code",
   "execution_count": null,
   "metadata": {},
   "outputs": [],
   "source": [
    "gp_Ds = {}\n",
    "for tracer_name in gp_nzs.keys():\n",
    "    model_obj = gp_priors.model_objs[tracer_name]\n",
    "    mu_1, K_1 = model_obj.nz_mean, model_obj.nz_cov\n",
    "    nzs = gp_nzs[tracer_name][1]\n",
    "    mu_2 = np.mean(nzs, axis=0)\n",
    "    K_2 = np.cov(nzs.T)\n",
    "    D = nzp.Sym_Dkl(mu_1, K_1, mu_2, K_2)\n",
    "    gp_Ds[tracer_name] = np.abs(D)"
   ]
  },
  {
   "cell_type": "code",
   "execution_count": null,
   "metadata": {},
   "outputs": [],
   "source": [
    "gp_Ds"
   ]
  },
  {
   "cell_type": "markdown",
   "metadata": {},
   "source": [
    "## Comb"
   ]
  },
  {
   "cell_type": "code",
   "execution_count": 38,
   "metadata": {},
   "outputs": [],
   "source": [
    "comb_priors = nzp.PriorSacc(ss_qp,\n",
    "                            model=\"Comb\",\n",
    "                            compute_crosscorrs=crosscorrs_method,\n",
    "                            ncombs=10)"
   ]
  },
  {
   "cell_type": "code",
   "execution_count": null,
   "metadata": {},
   "outputs": [],
   "source": [
    "mean, cov, chol = comb_priors.get_prior()\n",
    "err = np.sqrt(np.diag(cov))\n",
    "corr = cov/np.outer(err, err) \n",
    "plt.imshow(corr)\n",
    "plt.colorbar()"
   ]
  },
  {
   "cell_type": "code",
   "execution_count": 40,
   "metadata": {},
   "outputs": [],
   "source": [
    "comb_nzs = {}\n",
    "for i in range(500):\n",
    "    prior_sample = comb_priors.sample_prior()\n",
    "    for tracer_name in list(ss_qp.tracers.keys()):\n",
    "        model_obj = comb_priors.model_objs[tracer_name]\n",
    "        nz_fid = [model_obj.z, model_obj.nz_mean]\n",
    "        param_names = model_obj._get_params_names()\n",
    "        nz_names = [tracer_name + \"__\"  + name for name in param_names]\n",
    "        params = [prior_sample[nz_name] for nz_name in nz_names]\n",
    "        nz = nzp.comb_model(nz_fid, params)[1]\n",
    "        if i == 0:\n",
    "            comb_nzs[tracer_name] = [nz_fid[0], nz]\n",
    "        else:\n",
    "\n",
    "            comb_nzs[tracer_name] = [nz_fid[0], np.vstack([comb_nzs[tracer_name][1], nz])]"
   ]
  },
  {
   "cell_type": "code",
   "execution_count": null,
   "metadata": {},
   "outputs": [],
   "source": [
    "plot_tracers = ['source_0', 'source_1', 'source_2', 'source_3', 'source_4']\n",
    "make_nzs_plots(comb_nzs, plot_tracers)"
   ]
  },
  {
   "cell_type": "code",
   "execution_count": null,
   "metadata": {},
   "outputs": [],
   "source": [
    "plot_tracers = ['lens_0', 'lens_1', 'lens_2', 'lens_3', 'lens_4']\n",
    "make_nzs_plots(comb_nzs, plot_tracers)"
   ]
  },
  {
   "cell_type": "code",
   "execution_count": null,
   "metadata": {},
   "outputs": [],
   "source": [
    "comb_Ds = {}\n",
    "for tracer_name in comb_nzs.keys():\n",
    "    model_obj = comb_priors.model_objs[tracer_name]\n",
    "    mu_1, K_1 = model_obj.nz_mean, model_obj.nz_cov\n",
    "    nzs = comb_nzs[tracer_name][1]\n",
    "    mu_2 = np.mean(nzs, axis=0)\n",
    "    K_2 = np.cov(nzs.T)\n",
    "    D = nzp.Sym_Dkl(mu_1, K_1, mu_2, K_2)\n",
    "    comb_Ds[tracer_name] = np.abs(D)"
   ]
  },
  {
   "cell_type": "code",
   "execution_count": null,
   "metadata": {},
   "outputs": [],
   "source": [
    "comb_Ds"
   ]
  },
  {
   "cell_type": "markdown",
   "metadata": {},
   "source": [
    "# PCA"
   ]
  },
  {
   "cell_type": "code",
   "execution_count": 71,
   "metadata": {},
   "outputs": [],
   "source": [
    "PCA_priors = nzp.PriorSacc(ss_qp,\n",
    "                            model=\"PCA\",\n",
    "                            compute_crosscorrs=crosscorrs_method,\n",
    "                            npca=25)"
   ]
  },
  {
   "cell_type": "code",
   "execution_count": null,
   "metadata": {},
   "outputs": [],
   "source": [
    "mean, cov, chol = PCA_priors.get_prior()\n",
    "err = np.sqrt(np.diag(cov))\n",
    "corr = cov/np.outer(err, err) \n",
    "plt.imshow(corr)\n",
    "plt.colorbar()"
   ]
  },
  {
   "cell_type": "code",
   "execution_count": 73,
   "metadata": {},
   "outputs": [],
   "source": [
    "pca_nzs = {}\n",
    "for i in range(500):\n",
    "    prior_sample = PCA_priors.sample_prior()\n",
    "    for tracer_name in list(ss_qp.tracers.keys()):\n",
    "        model_obj = PCA_priors.model_objs[tracer_name]\n",
    "        nz_fid = [model_obj.z, model_obj.nz_mean]\n",
    "        param_names = model_obj._get_params_names()\n",
    "        nz_names = [tracer_name + \"__\"  + name for name in param_names]\n",
    "        params = [prior_sample[nz_name] for nz_name in nz_names]\n",
    "        nz = nzp.pca_model(nz_fid, params, model_obj.eigvecs)[1]\n",
    "        if i == 0:\n",
    "            pca_nzs[tracer_name] = [nz_fid[0], nz]\n",
    "        else:\n",
    "\n",
    "            pca_nzs[tracer_name] = [nz_fid[0], np.vstack([pca_nzs[tracer_name][1], nz])]"
   ]
  },
  {
   "cell_type": "code",
   "execution_count": null,
   "metadata": {},
   "outputs": [],
   "source": [
    "plot_tracers = ['source_0', 'source_1', 'source_2', 'source_3', 'source_4']\n",
    "make_nzs_plots(pca_nzs, plot_tracers)"
   ]
  },
  {
   "cell_type": "code",
   "execution_count": null,
   "metadata": {},
   "outputs": [],
   "source": [
    "plot_tracers = ['lens_0', 'lens_1', 'lens_2', 'lens_3', 'lens_4']\n",
    "make_nzs_plots(pca_nzs, plot_tracers)"
   ]
  },
  {
   "cell_type": "code",
   "execution_count": null,
   "metadata": {},
   "outputs": [],
   "source": [
    "pca_Ds = {}\n",
    "for tracer_name in pca_nzs.keys():\n",
    "    model_obj = PCA_priors.model_objs[tracer_name]\n",
    "    mu_1, K_1 = model_obj.nz_mean, model_obj.nz_cov\n",
    "    nzs = pca_nzs[tracer_name][1]\n",
    "    mu_2 = np.mean(nzs, axis=0)\n",
    "    K_2 = np.cov(nzs.T)\n",
    "    D = nzp.Sym_Dkl(mu_1, K_1, mu_2, K_2)\n",
    "    pca_Ds[tracer_name] = np.abs(D)"
   ]
  },
  {
   "cell_type": "markdown",
   "metadata": {},
   "source": [
    "# Comparison"
   ]
  },
  {
   "cell_type": "code",
   "execution_count": 77,
   "metadata": {},
   "outputs": [],
   "source": [
    "def make_D_plots(Ds, tracer_list):\n",
    "    n_tracers = len(tracer_list)\n",
    "    figure, axis = plt.subplots(1, n_tracers, figsize=(n_tracers*3.5,4))\n",
    "    figure.subplots_adjust(wspace=0, hspace=0.01)\n",
    "    for i, key in enumerate(tracer_list):\n",
    "        tracer_Ds = np.log10(1+np.array([D[key] for D in Ds]))\n",
    "        axis[i].bar(np.arange(len(Ds)), tracer_Ds)\n",
    "        axis[i].set_xticks(np.arange(5), ['Shifts', 'ShiftsWidths', 'PCA', 'Comb', 'GP'],\n",
    "                           rotation=45)\n",
    "        axis[i].set_title(key)\n",
    "        if i == 0:\n",
    "            axis[i].set_ylabel(r'$\\log ((1/2)*[D_{KL}(f|g)+D_{KL}(g|f)])$')\n",
    "        else:\n",
    "            axis[i].set_yticklabels([])\n",
    "    plt.show()"
   ]
  },
  {
   "cell_type": "code",
   "execution_count": 78,
   "metadata": {},
   "outputs": [],
   "source": [
    "Ds = [shifts_Ds, SnWs_Ds, pca_Ds, comb_Ds, gp_Ds, ]"
   ]
  },
  {
   "cell_type": "code",
   "execution_count": null,
   "metadata": {},
   "outputs": [],
   "source": [
    "make_D_plots(Ds, ['source_0', 'source_1', 'source_2', 'source_3', 'source_4'])"
   ]
  },
  {
   "cell_type": "code",
   "execution_count": null,
   "metadata": {},
   "outputs": [],
   "source": [
    "make_D_plots(Ds, ['lens_0', 'lens_1', 'lens_2', 'lens_3', 'lens_4'])"
   ]
  },
  {
   "cell_type": "code",
   "execution_count": null,
   "metadata": {},
   "outputs": [],
   "source": []
  },
  {
   "cell_type": "code",
   "execution_count": null,
   "metadata": {},
   "outputs": [],
   "source": []
  }
 ],
 "metadata": {
  "kernelspec": {
   "display_name": "qp_dev",
   "language": "python",
   "name": "python3"
  },
  "language_info": {
   "codemirror_mode": {
    "name": "ipython",
    "version": 3
   },
   "file_extension": ".py",
   "mimetype": "text/x-python",
   "name": "python",
   "nbconvert_exporter": "python",
   "pygments_lexer": "ipython3",
   "version": "3.12.3"
  }
 },
 "nbformat": 4,
 "nbformat_minor": 2
}
